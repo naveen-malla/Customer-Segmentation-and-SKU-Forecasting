{
 "cells": [
  {
   "cell_type": "code",
   "execution_count": 1,
   "metadata": {},
   "outputs": [],
   "source": [
    "# in this project we perform customer segmentation on a sales dataset. the available features are: order_number, order_date, customer_number, type, month, item_number (SKU), quantity, category, revenue, customer_source, order_source"
   ]
  },
  {
   "cell_type": "code",
   "execution_count": 3,
   "metadata": {},
   "outputs": [],
   "source": [
    "import pandas as pd"
   ]
  },
  {
   "cell_type": "code",
   "execution_count": 10,
   "metadata": {},
   "outputs": [
    {
     "name": "stdout",
     "output_type": "stream",
     "text": [
      "  order_number  order_date customer_number       type    month item_number  \\\n",
      "0       KE0001  2024-01-01         CKE0539     RETAIL  2024-01      KE0895   \n",
      "1       KE0001  2024-01-01         CKE0539     RETAIL  2024-01      KE1000   \n",
      "2       KE0001  2024-01-01         CKE0539     RETAIL  2024-01      KE0921   \n",
      "3       KE0002  2024-01-01         CKE0580  WHOLESALE  2024-01      KE0015   \n",
      "4       KE0002  2024-01-01         CKE0580  WHOLESALE  2024-01      KE0224   \n",
      "\n",
      "   quantity       category    revenue customer_source order_source  \n",
      "0        12       DIABETES   5.098618          direct          App  \n",
      "1        23  HYPERTENSIVES  12.460205          direct          App  \n",
      "2        12  HYPERTENSIVES   8.012194          direct          App  \n",
      "3        23       DIABETES  13.854194           agent         call  \n",
      "4        21  HYPERTENSIVES  10.534678           agent         call  \n"
     ]
    }
   ],
   "source": [
    "df= pd.read_csv('data/sales.csv')\n",
    "\n",
    "# Display the first few rows of the DataFrame\n",
    "print(df_csv.head())"
   ]
  },
  {
   "cell_type": "code",
   "execution_count": 12,
   "metadata": {},
   "outputs": [
    {
     "name": "stdout",
     "output_type": "stream",
     "text": [
      "order_number       0\n",
      "order_date         0\n",
      "customer_number    0\n",
      "type               0\n",
      "month              0\n",
      "item_number        0\n",
      "quantity           0\n",
      "category           0\n",
      "revenue            0\n",
      "customer_source    0\n",
      "order_source       0\n",
      "dtype: int64\n"
     ]
    }
   ],
   "source": [
    "# check for missing values\n",
    "print(df.isnull().sum())"
   ]
  },
  {
   "cell_type": "code",
   "execution_count": 13,
   "metadata": {},
   "outputs": [
    {
     "name": "stdout",
     "output_type": "stream",
     "text": [
      "order_number        object\n",
      "order_date          object\n",
      "customer_number     object\n",
      "type                object\n",
      "month               object\n",
      "item_number         object\n",
      "quantity             int64\n",
      "category            object\n",
      "revenue            float64\n",
      "customer_source     object\n",
      "order_source        object\n",
      "dtype: object\n"
     ]
    }
   ],
   "source": [
    "# check the data types of the columns\n",
    "print(df.dtypes)"
   ]
  },
  {
   "cell_type": "code",
   "execution_count": 15,
   "metadata": {},
   "outputs": [
    {
     "data": {
      "text/plain": [
       "order_number               object\n",
       "order_date         datetime64[ns]\n",
       "customer_number            object\n",
       "type                       object\n",
       "month                      object\n",
       "item_number                object\n",
       "quantity                    int64\n",
       "category                   object\n",
       "revenue                   float64\n",
       "customer_source            object\n",
       "order_source               object\n",
       "dtype: object"
      ]
     },
     "execution_count": 15,
     "metadata": {},
     "output_type": "execute_result"
    }
   ],
   "source": [
    "# convert the order_date column to datetime\n",
    "df['order_date'] = pd.to_datetime(df['order_date'])\n",
    "df.dtypes"
   ]
  },
  {
   "cell_type": "code",
   "execution_count": null,
   "metadata": {},
   "outputs": [],
   "source": []
  }
 ],
 "metadata": {
  "kernelspec": {
   "display_name": ".venv",
   "language": "python",
   "name": "python3"
  },
  "language_info": {
   "codemirror_mode": {
    "name": "ipython",
    "version": 3
   },
   "file_extension": ".py",
   "mimetype": "text/x-python",
   "name": "python",
   "nbconvert_exporter": "python",
   "pygments_lexer": "ipython3",
   "version": "3.12.4"
  }
 },
 "nbformat": 4,
 "nbformat_minor": 2
}
