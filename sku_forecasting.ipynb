{
 "cells": [
  {
   "cell_type": "code",
   "execution_count": 14,
   "metadata": {},
   "outputs": [],
   "source": [
    "# in this project we perform SKU forecasting on a sales dataset. the available features are: order_number, order_date, customer_number, type, month, item_number (SKU), quantity, category, revenue, customer_source, order_source"
   ]
  },
  {
   "cell_type": "code",
   "execution_count": 15,
   "metadata": {},
   "outputs": [],
   "source": [
    "import pandas as pd\n",
    "import matplotlib.pyplot as plt\n",
    "import matplotlib.ticker as ticker\n",
    "import seaborn as sns"
   ]
  },
  {
   "cell_type": "code",
   "execution_count": 16,
   "metadata": {},
   "outputs": [
    {
     "data": {
      "text/html": [
       "<div>\n",
       "<style scoped>\n",
       "    .dataframe tbody tr th:only-of-type {\n",
       "        vertical-align: middle;\n",
       "    }\n",
       "\n",
       "    .dataframe tbody tr th {\n",
       "        vertical-align: top;\n",
       "    }\n",
       "\n",
       "    .dataframe thead th {\n",
       "        text-align: right;\n",
       "    }\n",
       "</style>\n",
       "<table border=\"1\" class=\"dataframe\">\n",
       "  <thead>\n",
       "    <tr style=\"text-align: right;\">\n",
       "      <th></th>\n",
       "      <th>order_number</th>\n",
       "      <th>order_date</th>\n",
       "      <th>customer_number</th>\n",
       "      <th>type</th>\n",
       "      <th>month</th>\n",
       "      <th>item_number</th>\n",
       "      <th>quantity</th>\n",
       "      <th>category</th>\n",
       "      <th>revenue</th>\n",
       "      <th>customer_source</th>\n",
       "      <th>order_source</th>\n",
       "    </tr>\n",
       "  </thead>\n",
       "  <tbody>\n",
       "    <tr>\n",
       "      <th>0</th>\n",
       "      <td>KE0001</td>\n",
       "      <td>2024-01-01</td>\n",
       "      <td>CKE0539</td>\n",
       "      <td>RETAIL</td>\n",
       "      <td>2024-01</td>\n",
       "      <td>KE0895</td>\n",
       "      <td>12</td>\n",
       "      <td>DIABETES</td>\n",
       "      <td>5.098618</td>\n",
       "      <td>direct</td>\n",
       "      <td>App</td>\n",
       "    </tr>\n",
       "    <tr>\n",
       "      <th>1</th>\n",
       "      <td>KE0001</td>\n",
       "      <td>2024-01-01</td>\n",
       "      <td>CKE0539</td>\n",
       "      <td>RETAIL</td>\n",
       "      <td>2024-01</td>\n",
       "      <td>KE1000</td>\n",
       "      <td>23</td>\n",
       "      <td>HYPERTENSIVES</td>\n",
       "      <td>12.460205</td>\n",
       "      <td>direct</td>\n",
       "      <td>App</td>\n",
       "    </tr>\n",
       "    <tr>\n",
       "      <th>2</th>\n",
       "      <td>KE0001</td>\n",
       "      <td>2024-01-01</td>\n",
       "      <td>CKE0539</td>\n",
       "      <td>RETAIL</td>\n",
       "      <td>2024-01</td>\n",
       "      <td>KE0921</td>\n",
       "      <td>12</td>\n",
       "      <td>HYPERTENSIVES</td>\n",
       "      <td>8.012194</td>\n",
       "      <td>direct</td>\n",
       "      <td>App</td>\n",
       "    </tr>\n",
       "    <tr>\n",
       "      <th>3</th>\n",
       "      <td>KE0002</td>\n",
       "      <td>2024-01-01</td>\n",
       "      <td>CKE0580</td>\n",
       "      <td>WHOLESALE</td>\n",
       "      <td>2024-01</td>\n",
       "      <td>KE0015</td>\n",
       "      <td>23</td>\n",
       "      <td>DIABETES</td>\n",
       "      <td>13.854194</td>\n",
       "      <td>agent</td>\n",
       "      <td>call</td>\n",
       "    </tr>\n",
       "    <tr>\n",
       "      <th>4</th>\n",
       "      <td>KE0002</td>\n",
       "      <td>2024-01-01</td>\n",
       "      <td>CKE0580</td>\n",
       "      <td>WHOLESALE</td>\n",
       "      <td>2024-01</td>\n",
       "      <td>KE0224</td>\n",
       "      <td>21</td>\n",
       "      <td>HYPERTENSIVES</td>\n",
       "      <td>10.534678</td>\n",
       "      <td>agent</td>\n",
       "      <td>call</td>\n",
       "    </tr>\n",
       "  </tbody>\n",
       "</table>\n",
       "</div>"
      ],
      "text/plain": [
       "  order_number  order_date customer_number       type    month item_number  \\\n",
       "0       KE0001  2024-01-01         CKE0539     RETAIL  2024-01      KE0895   \n",
       "1       KE0001  2024-01-01         CKE0539     RETAIL  2024-01      KE1000   \n",
       "2       KE0001  2024-01-01         CKE0539     RETAIL  2024-01      KE0921   \n",
       "3       KE0002  2024-01-01         CKE0580  WHOLESALE  2024-01      KE0015   \n",
       "4       KE0002  2024-01-01         CKE0580  WHOLESALE  2024-01      KE0224   \n",
       "\n",
       "   quantity       category    revenue customer_source order_source  \n",
       "0        12       DIABETES   5.098618          direct          App  \n",
       "1        23  HYPERTENSIVES  12.460205          direct          App  \n",
       "2        12  HYPERTENSIVES   8.012194          direct          App  \n",
       "3        23       DIABETES  13.854194           agent         call  \n",
       "4        21  HYPERTENSIVES  10.534678           agent         call  "
      ]
     },
     "execution_count": 16,
     "metadata": {},
     "output_type": "execute_result"
    }
   ],
   "source": [
    "# load the dataset\n",
    "df = pd.read_csv('data/sales.csv')\n",
    "df.head()\n"
   ]
  },
  {
   "cell_type": "code",
   "execution_count": 17,
   "metadata": {},
   "outputs": [
    {
     "data": {
      "text/html": [
       "<div>\n",
       "<style scoped>\n",
       "    .dataframe tbody tr th:only-of-type {\n",
       "        vertical-align: middle;\n",
       "    }\n",
       "\n",
       "    .dataframe tbody tr th {\n",
       "        vertical-align: top;\n",
       "    }\n",
       "\n",
       "    .dataframe thead th {\n",
       "        text-align: right;\n",
       "    }\n",
       "</style>\n",
       "<table border=\"1\" class=\"dataframe\">\n",
       "  <thead>\n",
       "    <tr style=\"text-align: right;\">\n",
       "      <th></th>\n",
       "      <th>order_date</th>\n",
       "      <th>item_number</th>\n",
       "      <th>quantity</th>\n",
       "    </tr>\n",
       "  </thead>\n",
       "  <tbody>\n",
       "    <tr>\n",
       "      <th>0</th>\n",
       "      <td>2024-01-01</td>\n",
       "      <td>KE0895</td>\n",
       "      <td>12</td>\n",
       "    </tr>\n",
       "    <tr>\n",
       "      <th>1</th>\n",
       "      <td>2024-01-01</td>\n",
       "      <td>KE1000</td>\n",
       "      <td>23</td>\n",
       "    </tr>\n",
       "    <tr>\n",
       "      <th>2</th>\n",
       "      <td>2024-01-01</td>\n",
       "      <td>KE0921</td>\n",
       "      <td>12</td>\n",
       "    </tr>\n",
       "    <tr>\n",
       "      <th>3</th>\n",
       "      <td>2024-01-01</td>\n",
       "      <td>KE0015</td>\n",
       "      <td>23</td>\n",
       "    </tr>\n",
       "    <tr>\n",
       "      <th>4</th>\n",
       "      <td>2024-01-01</td>\n",
       "      <td>KE0224</td>\n",
       "      <td>21</td>\n",
       "    </tr>\n",
       "  </tbody>\n",
       "</table>\n",
       "</div>"
      ],
      "text/plain": [
       "   order_date item_number  quantity\n",
       "0  2024-01-01      KE0895        12\n",
       "1  2024-01-01      KE1000        23\n",
       "2  2024-01-01      KE0921        12\n",
       "3  2024-01-01      KE0015        23\n",
       "4  2024-01-01      KE0224        21"
      ]
     },
     "execution_count": 17,
     "metadata": {},
     "output_type": "execute_result"
    }
   ],
   "source": [
    "# remove unnecessary columns\n",
    "df = df.drop(['order_number', 'customer_number', 'type', 'month', 'category', 'revenue', 'customer_source', 'order_source'], axis=1)\n",
    "df.head()"
   ]
  },
  {
   "cell_type": "code",
   "execution_count": 18,
   "metadata": {},
   "outputs": [
    {
     "name": "stdout",
     "output_type": "stream",
     "text": [
      "item_number\n",
      "KE0818    85\n",
      "KE0363    84\n",
      "KE0494    82\n",
      "KE0914    82\n",
      "KE0258    82\n",
      "Name: count, dtype: int64\n",
      "item_number\n",
      "KE0523    42\n",
      "KE0360    41\n",
      "KE0665    40\n",
      "KE0092    39\n",
      "KE0741    37\n",
      "Name: count, dtype: int64\n"
     ]
    }
   ],
   "source": [
    "# chck how many data points we have for each product and their total revenue. get the top 5 and the bottom 5 in the list and analyse them\n",
    "print(df['item_number'].value_counts().head(5))\n",
    "print(df['item_number'].value_counts().tail(5))\n"
   ]
  },
  {
   "cell_type": "code",
   "execution_count": 19,
   "metadata": {},
   "outputs": [
    {
     "data": {
      "text/plain": [
       "order_date     object\n",
       "item_number    object\n",
       "quantity        int64\n",
       "dtype: object"
      ]
     },
     "execution_count": 19,
     "metadata": {},
     "output_type": "execute_result"
    }
   ],
   "source": [
    "df.dtypes"
   ]
  },
  {
   "cell_type": "code",
   "execution_count": 23,
   "metadata": {},
   "outputs": [
    {
     "data": {
      "text/html": [
       "<div>\n",
       "<style scoped>\n",
       "    .dataframe tbody tr th:only-of-type {\n",
       "        vertical-align: middle;\n",
       "    }\n",
       "\n",
       "    .dataframe tbody tr th {\n",
       "        vertical-align: top;\n",
       "    }\n",
       "\n",
       "    .dataframe thead th {\n",
       "        text-align: right;\n",
       "    }\n",
       "</style>\n",
       "<table border=\"1\" class=\"dataframe\">\n",
       "  <thead>\n",
       "    <tr style=\"text-align: right;\">\n",
       "      <th></th>\n",
       "      <th>order_date</th>\n",
       "      <th>item_number</th>\n",
       "      <th>quantity</th>\n",
       "      <th>week</th>\n",
       "    </tr>\n",
       "  </thead>\n",
       "  <tbody>\n",
       "    <tr>\n",
       "      <th>0</th>\n",
       "      <td>2024-01-01</td>\n",
       "      <td>KE0895</td>\n",
       "      <td>12</td>\n",
       "      <td>1</td>\n",
       "    </tr>\n",
       "    <tr>\n",
       "      <th>1</th>\n",
       "      <td>2024-01-01</td>\n",
       "      <td>KE1000</td>\n",
       "      <td>23</td>\n",
       "      <td>1</td>\n",
       "    </tr>\n",
       "    <tr>\n",
       "      <th>2</th>\n",
       "      <td>2024-01-01</td>\n",
       "      <td>KE0921</td>\n",
       "      <td>12</td>\n",
       "      <td>1</td>\n",
       "    </tr>\n",
       "    <tr>\n",
       "      <th>3</th>\n",
       "      <td>2024-01-01</td>\n",
       "      <td>KE0015</td>\n",
       "      <td>23</td>\n",
       "      <td>1</td>\n",
       "    </tr>\n",
       "    <tr>\n",
       "      <th>4</th>\n",
       "      <td>2024-01-01</td>\n",
       "      <td>KE0224</td>\n",
       "      <td>21</td>\n",
       "      <td>1</td>\n",
       "    </tr>\n",
       "  </tbody>\n",
       "</table>\n",
       "</div>"
      ],
      "text/plain": [
       "  order_date item_number  quantity  week\n",
       "0 2024-01-01      KE0895        12     1\n",
       "1 2024-01-01      KE1000        23     1\n",
       "2 2024-01-01      KE0921        12     1\n",
       "3 2024-01-01      KE0015        23     1\n",
       "4 2024-01-01      KE0224        21     1"
      ]
     },
     "execution_count": 23,
     "metadata": {},
     "output_type": "execute_result"
    }
   ],
   "source": [
    "# convert order_date to datetime\n",
    "df['order_date'] = pd.to_datetime(df['order_date'])\n",
    "\n",
    "# create week column \n",
    "df['week'] = df['order_date'].dt.isocalendar().week\n",
    "df.head(5)"
   ]
  },
  {
   "cell_type": "code",
   "execution_count": 26,
   "metadata": {},
   "outputs": [
    {
     "name": "stdout",
     "output_type": "stream",
     "text": [
      "   week item_number  quantity\n",
      "0     1      KE0001         5\n",
      "1     1      KE0002        11\n",
      "2     1      KE0003        16\n",
      "3     1      KE0004        39\n",
      "4     1      KE0006        17\n",
      "\n",
      " df shape: (26062, 3)\n"
     ]
    }
   ],
   "source": [
    "# aggregate the data by week and item_number\n",
    "df = df.groupby(['week', 'item_number']).agg({'quantity':'sum'}).reset_index()\n",
    "print(df.head(5))\n",
    "print('\\n df shape:', df.shape)"
   ]
  },
  {
   "cell_type": "code",
   "execution_count": 30,
   "metadata": {},
   "outputs": [
    {
     "name": "stdout",
     "output_type": "stream",
     "text": [
      "       week item_number  quantity\n",
      "0         1      KE0001         5\n",
      "875       2      KE0001        19\n",
      "1748      3      KE0001        30\n",
      "2625      4      KE0001         5\n",
      "5237      7      KE0001        15\n",
      "6124      8      KE0001       137\n",
      "6982      9      KE0001        41\n",
      "7846     10      KE0001        18\n",
      "8730     11      KE0001        55\n",
      "9611     12      KE0001        40\n",
      "10477    13      KE0001        18\n",
      "11358    14      KE0001        24\n",
      "12240    15      KE0001        29\n",
      "13997    17      KE0001        29\n",
      "14890    18      KE0001        36\n",
      "15773    19      KE0001        41\n",
      "16642    20      KE0001        51\n",
      "17528    21      KE0001        86\n",
      "19305    23      KE0001        26\n",
      "20179    24      KE0001       100\n",
      "21061    25      KE0001        13\n",
      "22817    27      KE0001        18\n",
      "25453    30      KE0001        59\n"
     ]
    }
   ],
   "source": [
    "# print weekly sales for KE0001\n",
    "df_ke0001 = df[df['item_number'] == 'KE0001'] \n",
    "print(df_ke0001)"
   ]
  },
  {
   "cell_type": "code",
   "execution_count": null,
   "metadata": {},
   "outputs": [],
   "source": []
  }
 ],
 "metadata": {
  "kernelspec": {
   "display_name": "venv",
   "language": "python",
   "name": "python3"
  },
  "language_info": {
   "codemirror_mode": {
    "name": "ipython",
    "version": 3
   },
   "file_extension": ".py",
   "mimetype": "text/x-python",
   "name": "python",
   "nbconvert_exporter": "python",
   "pygments_lexer": "ipython3",
   "version": "3.12.4"
  }
 },
 "nbformat": 4,
 "nbformat_minor": 2
}
